{
 "cells": [
  {
   "cell_type": "code",
   "execution_count": 1,
   "metadata": {
    "collapsed": true,
    "deletable": true,
    "editable": true
   },
   "outputs": [],
   "source": [
    "import numpy as np\n",
    "import tensorflow as tf"
   ]
  },
  {
   "cell_type": "code",
   "execution_count": 2,
   "metadata": {
    "collapsed": false,
    "deletable": true,
    "editable": true
   },
   "outputs": [],
   "source": [
    "n_features = 4\n",
    "m_examples = 50"
   ]
  },
  {
   "cell_type": "markdown",
   "metadata": {
    "deletable": true,
    "editable": true
   },
   "source": [
    "We have $X$, $m$ examples. Each example (each row) has $n$ features. Thus we have:\n",
    "$$ \n",
    "\\left[\\begin{array}{cccc}\n",
    "x^{(1)}_{1} & x^{(1)}_{2} & \\ldots & x^{(1)}_{n} \\\\\n",
    "x^{(2)}_{1} & x^{(2)}_{2} & \\ldots & x^{(2)}_{n} \\\\\n",
    "& & \\vdots \\\\\n",
    "x^{(m)}_{1} & x^{(m)}_{2} & \\ldots & x^{(m)}_{n}\n",
    "\\end{array}\\right] \\times\n",
    "\\left[\\begin{array}{c}\n",
    "w_1 \\\\ w_2 \\\\ \\vdots \\\\ w_n\n",
    "\\end{array}\\right] + b =\n",
    "\\left[\\begin{array}{c}\n",
    "y_1 \\\\ y_2 \\\\ \\vdots \\\\ v_n\n",
    "\\end{array}\\right]\n",
    "$$"
   ]
  },
  {
   "cell_type": "code",
   "execution_count": 3,
   "metadata": {
    "collapsed": false,
    "deletable": true,
    "editable": true
   },
   "outputs": [
    {
     "name": "stdout",
     "output_type": "stream",
     "text": [
      "w = [52.70, 37.46, 2.50, 99.31]\n",
      "b = -20.84\n"
     ]
    }
   ],
   "source": [
    "# This is what we wish linear regression to learn.\n",
    "w_true = np.random.rand(n_features, 1) * 100.0\n",
    "# The constant\n",
    "b_true = np.random.rand(1) * 100.0 - 50.0\n",
    "\n",
    "print \"w = [%s]\" % ', '.join(['%.2f' % x for x in w_true])\n",
    "print \"b = %.2f\" % b_true[0]"
   ]
  },
  {
   "cell_type": "code",
   "execution_count": 4,
   "metadata": {
    "collapsed": true
   },
   "outputs": [],
   "source": [
    "def create_training_fn(m, w, b):\n",
    "  \"\"\"Creates a training function for the given parameters.\n",
    "  \n",
    "  Args:\n",
    "    m: int\n",
    "      the number of examples to generate.\n",
    "    w: np.array\n",
    "      the weights used to compute y vector.\n",
    "    b: float\n",
    "      the bias added to X * w\n",
    "  Return:\n",
    "    function() -> (dict, tensor) training function.\n",
    "  \"\"\"\n",
    "  def training_fn_():\n",
    "    X = np.random.rand(m, w.shape[0])\n",
    "    return {'X': tf.constant(X)}, tf.constant(np.matmul(X, w) + b)\n",
    "  return training_fn_"
   ]
  },
  {
   "cell_type": "code",
   "execution_count": 5,
   "metadata": {
    "collapsed": false,
    "deletable": true,
    "editable": true
   },
   "outputs": [],
   "source": [
    "# In version 1.0.x tf.contrib.layers are very verbose. To quiet them down\n",
    "# only log errors.\n",
    "tf.logging.set_verbosity(tf.logging.ERROR)\n",
    "# Rather than having 4 features, we create one feature 4 columns wide.\n",
    "feature_cols = [tf.contrib.layers.real_valued_column('X', 4)]\n",
    "regressor = tf.contrib.learn.LinearRegressor(\n",
    "  feature_cols, optimizer=tf.train.GradientDescentOptimizer(0.3))\n",
    "regressor.fit(\n",
    "  input_fn=create_training_fn(m_examples, w_true, b_true), steps=500)\n",
    "eval_dict = regressor.evaluate(\n",
    "  input_fn=create_training_fn(10, w_true, b_true), steps=1)"
   ]
  },
  {
   "cell_type": "code",
   "execution_count": 6,
   "metadata": {
    "collapsed": false
   },
   "outputs": [
    {
     "name": "stdout",
     "output_type": "stream",
     "text": [
      "loss 1.24479e-06\n",
      "w true  [ 52.7017  37.4551  2.5016  99.3056]\n",
      "w found [ 52.7003  37.4511  2.4982  99.3036]\n",
      "b true  -20.8439\n",
      "b found -20.8376\n"
     ]
    }
   ],
   "source": [
    "print \"loss\", eval_dict['loss']\n",
    "\n",
    "np.set_printoptions(formatter={'float': '{: 0.4f}'.format})\n",
    "print \"w true \", w_true.T[0]\n",
    "print \"w found\", regressor.get_variable_value('linear/X/weight').T[0]\n",
    "print \"b true  %.4f\" % b_true[0]\n",
    "print \"b found\", regressor.get_variable_value('linear/bias_weight')[0]"
   ]
  },
  {
   "cell_type": "code",
   "execution_count": null,
   "metadata": {
    "collapsed": true
   },
   "outputs": [],
   "source": []
  }
 ],
 "metadata": {
  "kernelspec": {
   "display_name": "Python 2",
   "language": "python",
   "name": "python2"
  },
  "language_info": {
   "codemirror_mode": {
    "name": "ipython",
    "version": 2
   },
   "file_extension": ".py",
   "mimetype": "text/x-python",
   "name": "python",
   "nbconvert_exporter": "python",
   "pygments_lexer": "ipython2",
   "version": "2.7.10"
  }
 },
 "nbformat": 4,
 "nbformat_minor": 0
}
